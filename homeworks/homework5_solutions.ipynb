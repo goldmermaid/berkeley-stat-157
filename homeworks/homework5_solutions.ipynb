{
 "cells": [
  {
   "cell_type": "markdown",
   "metadata": {},
   "source": [
    "#  Homework 5 Solutions - Berkeley STAT 157\n",
    "\n",
    "**Your name: XX, SID YY** (Please add your name, and SID to ease Ryan and Rachel to grade.)\n",
    "\n",
    "**Please submit your homework through [gradescope](http://gradescope.com/) instead of Github, so you will get the score distribution for each question. Please enroll in the [class](https://www.gradescope.com/courses/42432) by the Entry code: MXG5G5** \n",
    "\n",
    "Handout 2/19/2019, due 2/26/2019 by 4pm in Git by committing to your repository.\n",
    "\n",
    "In this homework, we will model covariate shift and attempt to fix it using logistic regression. This is a fairly realistic scenario for data scientists. To keep things well under control and understandable we will use [Fashion-MNIST](http://d2l.ai/chapter_linear-networks/fashion-mnist.html) as the data to experiment on. \n",
    "\n",
    "Follow the instructions from the Fashion MNIST notebook to get the data."
   ]
  },
  {
   "cell_type": "code",
   "execution_count": 15,
   "metadata": {
    "ExecuteTime": {
     "end_time": "2019-02-12T19:52:59.411749Z",
     "start_time": "2019-02-12T19:52:28.081528Z"
    },
    "attributes": {
     "classes": [],
     "id": "",
     "n": "3"
    },
    "scrolled": true
   },
   "outputs": [],
   "source": [
    "%matplotlib inline\n",
    "from mxnet import autograd, gluon, init, nd\n",
    "from mxnet.gluon import data as gdata, loss as gloss, nn, utils\n",
    "import numpy as np\n",
    "import matplotlib.pyplot as plt\n",
    "import seaborn as sns\n",
    "\n",
    "sns.set_style('darkgrid')\n",
    "\n",
    "mnist_train = gdata.vision.FashionMNIST(train=True)\n",
    "mnist_test = gdata.vision.FashionMNIST(train=False)"
   ]
  },
  {
   "cell_type": "markdown",
   "metadata": {},
   "source": [
    "## 1. Logistic Regression\n",
    "\n",
    "1. Implement the logistic loss function $l(y,f) = -\\log(1 + \\exp(-y f))$ in Gluon.\n",
    "2. Plot its values and its derivative for $y = 1$ and $f \\in [-5, 5]$, using automatic differentiation in Gluon.\n",
    "3. Generate training and test datasets for a binary classification problem using Fashion-MNIST with class $1$ being a combination of `sneaker` and `pullover` and class $-1$ being the combination of `sandal` and `shirt` categories. \n",
    "4. Train a binary classifier of your choice (it can be linear or a simple MLP such as from a previous lecture) using half the data (i.e. $12,000$ observations mixed as abvove) and one using the full dataset (i.e. $24,000$ observations as arising from the 4 categories) and report its accuracy. \n",
    "\n",
    "Hint - you should encapsulate the training and reporting code in a callable function since you'll need it quite a bit in the following. "
   ]
  },
  {
   "cell_type": "code",
   "execution_count": 87,
   "metadata": {},
   "outputs": [
    {
     "data": {
      "image/png": "[encoded data removed]",
      "text/plain": [
       "<Figure size 432x288 with 1 Axes>"
      ]
     },
     "metadata": {},
     "output_type": "display_data"
    },
    {
     "name": "stdout",
     "output_type": "stream",
     "text": [
      "======== training with full dataset =========\n",
      "Test Loss: 0.2894197, Test Accuracy: 0.8885\n",
      "======== training with half dataset =========\n",
      "Test Loss: 0.3132914, Test Accuracy: 0.88\n"
     ]
    }
   ],
   "source": [
    "### Part 1 ###\n",
    "\n",
    "def logitLoss(y, f):\n",
    "    return -nd.log(1. + nd.exp(-nd.dot(y,f)))\n",
    "\n",
    "### Part 2 ###\n",
    "\n",
    "x = np.linspace(-5,5,100)\n",
    "f = nd.array(x)\n",
    "y = nd.array([[1,],]) \n",
    "f.attach_grad()\n",
    "\n",
    "with autograd.record():\n",
    "    l = logitLoss(y, f.reshape(1,100))\n",
    "    l.backward()\n",
    "\n",
    "plt.plot(x, logitLoss(y, f.reshape(1,100))[0].asnumpy(), label='logitLoss')\n",
    "plt.plot(x, f.grad.asnumpy(), label = 'grad logitLoss')\n",
    "plt.legend()\n",
    "plt.show()\n",
    "\n",
    "### Part 3 ###\n",
    "X_sneaker_train = nd.array(mnist_train._data.asnumpy()[mnist_train._label == 7])\n",
    "X_pullover_train = nd.array(mnist_train._data.asnumpy()[mnist_train._label == 2])\n",
    "X_sandal_train = nd.array(mnist_train._data.asnumpy()[mnist_train._label == 5])\n",
    "X_shirt_train = nd.array(mnist_train._data.asnumpy()[mnist_train._label == 6])\n",
    "\n",
    "X_sneaker_test = nd.array(mnist_test._data.asnumpy()[mnist_test._label == 7])\n",
    "X_pullover_test = nd.array(mnist_test._data.asnumpy()[mnist_test._label == 2])\n",
    "X_sandal_test = nd.array(mnist_test._data.asnumpy()[mnist_test._label == 5])\n",
    "X_shirt_test = nd.array(mnist_test._data.asnumpy()[mnist_test._label == 6])\n",
    "\n",
    "X0_train = nd.concatenate([X_sandal_train, X_shirt_train], axis=0)\n",
    "y0_train = nd.array([-1]*X0_train.shape[0])\n",
    "X1_train = nd.concatenate([X_sneaker_train, X_pullover_train], axis=0)\n",
    "y1_train = nd.array([1]*X1_train.shape[0])\n",
    "\n",
    "X0_test = nd.concatenate([X_sandal_test, X_shirt_test], axis=0)\n",
    "y0_test = nd.array([-1]*X0_test.shape[0])\n",
    "X1_test = nd.concatenate([X_sneaker_test, X_pullover_test], axis=0)\n",
    "y1_test = nd.array([1]*X1_test.shape[0])\n",
    "\n",
    "X_train = nd.concatenate([X0_train, X1_train], axis = 0)/255\n",
    "y_train = nd.concatenate([y0_train, y1_train], axis = 0)\n",
    "\n",
    "X_test = nd.concatenate([X0_test, X1_test], axis = 0)/255\n",
    "y_test = nd.concatenate([y0_test, y1_test], axis = 0)\n",
    "\n",
    "ix = np.random.choice(X_train.shape[0], 12000)\n",
    "X_train_half = X_train[ix]\n",
    "y_train_half = y_train[ix]\n",
    "\n",
    "### Part 4 ###\n",
    "def accuracy(net, X, y):\n",
    "    out = net(X)\n",
    "    pred = nd.sign(out).reshape(-1,)\n",
    "    return nd.sum(pred == y)/X.shape[0]\n",
    "    \n",
    "def train_model(model, epochs, X_train, y_train, X_test, y_test, lr, batch_size, loss_fn):\n",
    "    model.initialize(init.Normal(sigma=0.01))\n",
    "    trainer = gluon.Trainer(model.collect_params(), 'adam', {'learning_rate': lr})\n",
    "    data_loader = gdata.DataLoader(gdata.ArrayDataset(X_train,y_train), batch_size=batch_size, shuffle=True)\n",
    "    for e in range(epochs):\n",
    "        for Xb, yb in data_loader:\n",
    "            with autograd.record():\n",
    "                loss = loss_fn(model(Xb),yb).mean()\n",
    "            loss.backward()\n",
    "            trainer.step(batch_size)\n",
    "        #loss_train = loss_fn(model(X_train), y_train).mean()\n",
    "    loss_test = loss_fn(model(X_test),y_test).mean()\n",
    "    print('Test Loss: %s, Test Accuracy: %s' \n",
    "            % (loss_test.asscalar(), accuracy(model, X_test,y_test).asscalar()))\n",
    "\n",
    "model_full = gluon.nn.Dense(1)\n",
    "print(\"======== training with full dataset =========\")\n",
    "train_model(model_full, 50, X_train, y_train, X_test, y_test, 0.0005, 256, gloss.LogisticLoss())\n",
    "\n",
    "model_half = gluon.nn.Dense(1)\n",
    "print(\"======== training with half dataset =========\")\n",
    "train_model(model_half, 50, X_train_half, y_train_half, X_test, y_test, 0.0005, 256, gloss.LogisticLoss())\n",
    "    "
   ]
  },
  {
   "cell_type": "markdown",
   "metadata": {},
   "source": [
    "## 2. Covariate Shift\n",
    "\n",
    "Your goal is to introduce covariate shit in the data and observe the accuracy. For this, compose a dataset of $12,000$ observations, given by a mixture of `sneaker` and `pullover` and of `sandal` and `shirt` respectively, where you use a fraction $\\lambda \\in \\{0.05, 0.1, 0.2, \\ldots 0.8, 0.9, 0.95\\}$ of one and a fraction of $1-\\lambda$ of  the other datasets respectively. For instance, you might pick for $\\lambda = 0.1$ a total of $600$ `sneaker` and $5,400$ `pullover` images and likewise $600$ `sandal` and $5,400$ `shirt` photos, yielding a total of $12,000$ images for training. Note that the test set remains unbiased, composed of $2,000$ photos for the `sneaker` + `pullover` category and of the `sandal` + `shirt` category each.\n",
    "\n",
    "1. Generate training sets that are appropriately biased. You should have 11 datasets.\n",
    "2. Train a binary classifier using this and report the test set accuracy on the unbiased test set. "
   ]
  },
  {
   "cell_type": "code",
   "execution_count": 131,
   "metadata": {},
   "outputs": [
    {
     "name": "stdout",
     "output_type": "stream",
     "text": [
      "======== Lambda=0.05 ==========\n",
      "Test Loss: 0.37277567, Test Accuracy: 0.84875\n",
      "======== Lambda=0.1 ==========\n",
      "Test Loss: 0.3369718, Test Accuracy: 0.8675\n",
      "======== Lambda=0.2 ==========\n",
      "Test Loss: 0.31146935, Test Accuracy: 0.87625\n",
      "======== Lambda=0.3 ==========\n",
      "Test Loss: 0.29705656, Test Accuracy: 0.88825\n",
      "======== Lambda=0.4 ==========\n",
      "Test Loss: 0.28826368, Test Accuracy: 0.888\n",
      "======== Lambda=0.5 ==========\n",
      "Test Loss: 0.28912184, Test Accuracy: 0.8865\n",
      "======== Lambda=0.6 ==========\n",
      "Test Loss: 0.28970745, Test Accuracy: 0.889\n",
      "======== Lambda=0.7 ==========\n",
      "Test Loss: 0.2978464, Test Accuracy: 0.884\n",
      "======== Lambda=0.8 ==========\n",
      "Test Loss: 0.32571408, Test Accuracy: 0.8795\n",
      "======== Lambda=0.9 ==========\n",
      "Test Loss: 0.36462387, Test Accuracy: 0.8635\n",
      "======== Lambda=0.95 ==========\n",
      "Test Loss: 0.44213355, Test Accuracy: 0.85875\n"
     ]
    }
   ],
   "source": [
    "Lambda = np.arange(0.1,1, .1)\n",
    "Lambda = np.sort(np.concatenate([[.05,.95],Lambda]))\n",
    "\n",
    "def create_dataset(lam):\n",
    "    ix1 = np.random.choice(6000, int(lam*6000))\n",
    "    ix2 = np.random.choice(6000, int((1-lam)*6000))\n",
    "    X_sneak_lam = X_sneaker_train[ix1]\n",
    "    X_pull_lam = X_pullover_train[ix2]\n",
    "    X_sand_lam = X_sandal_train[ix1]\n",
    "    X_shirt_lam = X_shirt_train[ix2]\n",
    "    X0_lam = nd.concatenate([X_sand_lam, X_shirt_lam], axis=0)\n",
    "    y0_lam = nd.array([-1]*X0_lam.shape[0])\n",
    "    X1_lam = nd.concatenate([X_sneak_lam, X_pull_lam], axis=0)\n",
    "    y1_lam = nd.array([1]*X1_lam.shape[0])\n",
    "    X_lam = nd.concatenate([X0_lam, X1_lam], axis = 0)/255\n",
    "    y_lam = nd.concatenate([y0_lam, y1_lam], axis = 0)\n",
    "    return X_lam, y_lam\n",
    "    \n",
    "for lam in Lambda:\n",
    "    X_lam, y_lam = create_dataset(lam)\n",
    "    model_curr = nn.Dense(1)\n",
    "    print(\"======== Lambda=%s ==========\" % round(lam,2)) \n",
    "    train_model(model_curr, 50, X_lam, y_lam, X_test, y_test, 0.005, 256, gloss.LogisticLoss())\n",
    "    "
   ]
  },
  {
   "cell_type": "markdown",
   "metadata": {},
   "source": [
    "## 3. Covariate Shift Correction\n",
    "\n",
    "Having observed that covariate shift can be harmful, let's try fixing it. For this we first need to compute the appropriate propensity scores $\\frac{dp(x)}{dq(x)}$. For this purpose pick a biased dataset, let's say with $\\lambda = 0.1$ and try to fix the covariate shift.\n",
    "\n",
    "1. When training a logistic regression binary classifier to fix covariate shift, we assumed so far that both sets are of equal size. Show that re-weighting data in training and test set appropriately can help address the issue when both datasets have different size. What is the weighting?\n",
    "2. Train a binary classifier (using logistic regression) distinguishing between the biased training set and the unbiased test set. Note - you need to weigh the data. \n",
    "3. Use the scores to compute weights on the training set. Do they match the weight arising from the biasing distribution $\\lambda$? \n",
    "4. Train a binary classifier of the covariate shifted problem using the weights obtained previously and report the accuracy. Note - you will need to modify the training loop slightly such that you can compute the gradient of a weighted sum of losses. \n"
   ]
  },
  {
   "cell_type": "markdown",
   "metadata": {},
   "source": [
    "### Part 1.\n",
    "Note that the training set size is 12,000 and the test set size is 4,000. Then define the distribution\n",
    "$$ r(x,z) = \\frac{3}{4}p(x)\\delta(z,1) + \\frac{1}{4}q(x)\\delta(z,-1) $$\n",
    "where we take $p(x)$ to be the distribution of $x$ in the training set and $q(x)$ to be the distribution of $x$ in the testing set. We are interested in estimating $\\alpha(x) = \\frac{q(x)}{p(x)}$. Then note\n",
    "$$ r(z = 1|x) = \\frac{\\frac{3}{4}p(x)}{\\frac{3}{4}p(x) + \\frac{1}{4}q(x)} $$\n",
    "and\n",
    "$$ r(z = -1|x) = \\frac{\\frac{1}{4}q(x)}{\\frac{3}{4}p(x) + \\frac{1}{4}q(x)} $$\n",
    "Therefore $\\alpha(x) = \\frac{1}{3} \\frac{r(z=-1|x)}{r(z=1|x)}$. Note that this is useful since\n",
    "$$ \\mathbb{E}_p[\\alpha(x)l(\\theta ; x,y)] = \\int l(\\theta;x,y)\\alpha(x)p(x)p(y|x) = \\int l(\\theta;x,y)q(x)p(y|x) = \\mathbb{E}_q[l(\\theta; x,y)]$$\n",
    "so if we adjust our loss by $\\alpha$ in the training phase, we can compensate for the difference between the training and testing distributions."
   ]
  },
  {
   "cell_type": "code",
   "execution_count": 135,
   "metadata": {},
   "outputs": [
    {
     "name": "stdout",
     "output_type": "stream",
     "text": [
      "Train Loss: 0.48326635, Accuracy: 0.7995\n"
     ]
    }
   ],
   "source": [
    "### Part 2 ###\n",
    "X_lam, y_lam = create_dataset(lam = 0.1)\n",
    "z0 = nd.array([1]*X_lam.shape[0])\n",
    "z1 = nd.array([-1]*X_test.shape[0])\n",
    "X_disc = nd.concatenate([X_lam, X_test],axis=0)\n",
    "z = nd.concatenate([z0,z1], axis=0)\n",
    "\n",
    "def train_alpha_model(model, epochs, X_train, y_train, lr, batch_size, loss_fn):\n",
    "    model.initialize(init.Normal(sigma=0.01))\n",
    "    trainer = gluon.Trainer(model.collect_params(), 'adam', {'learning_rate': lr})\n",
    "    data_loader = gdata.DataLoader(gdata.ArrayDataset(X_train,y_train), batch_size=batch_size, shuffle=True)\n",
    "    for e in range(epochs):\n",
    "        for Xb, yb in data_loader:\n",
    "            with autograd.record():\n",
    "                loss = loss_fn(model(Xb),yb).mean()\n",
    "            loss.backward()\n",
    "            trainer.step(batch_size)\n",
    "        loss_train = loss_fn(model(X_train), y_train).mean()\n",
    "    print('Train Loss: %s, Accuracy: %s' \n",
    "        % (loss_train.asscalar(), accuracy(model, X_train,y_train).asscalar()))\n",
    "              \n",
    "alpha = nn.Dense(1)\n",
    "train_alpha_model(alpha, 100, X_disc, z, 0.0001, 256, gloss.LogisticLoss())\n",
    "        "
   ]
  },
  {
   "cell_type": "markdown",
   "metadata": {},
   "source": [
    "### Part 3\n",
    "\n",
    "We saw in class that when we train with a logistic model, $\\frac{r(z=-1|x)}{r(z=1|x)} = \\exp(f(x))$, so our weights are $\\frac{1}{3}\\exp(f(x_i))$. Note these will be different if we use the unbiased training distribution vs the biased one."
   ]
  },
  {
   "cell_type": "code",
   "execution_count": 136,
   "metadata": {},
   "outputs": [
    {
     "name": "stdout",
     "output_type": "stream",
     "text": [
      "Test Loss: 0.3229382, Test Accuracy: 0.8745\n"
     ]
    }
   ],
   "source": [
    "### Part 4 ###\n",
    "def train_model_weighted(model, epochs, X_train, y_train, X_test, y_test, lr, batch_size, loss_fn, alpha):\n",
    "    model.initialize(init.Normal(sigma=0.01))\n",
    "    trainer = gluon.Trainer(model.collect_params(), 'adam', {'learning_rate': lr})\n",
    "    data_loader = gdata.DataLoader(gdata.ArrayDataset(X_train,y_train), batch_size=batch_size, shuffle=True)\n",
    "    for e in range(epochs):\n",
    "        for Xb, yb in data_loader:\n",
    "            with autograd.record():\n",
    "                loss = (1/3*nd.exp(alpha(Xb))*loss_fn(model(Xb),yb)).mean()\n",
    "            loss.backward()\n",
    "            trainer.step(batch_size)\n",
    "        #loss_train = loss_fn(model(X_train), y_train).mean()\n",
    "    loss_test = loss_fn(model(X_test),y_test).mean()\n",
    "    print('Test Loss: %s, Test Accuracy: %s' \n",
    "            % (loss_test.asscalar(), accuracy(model, X_test,y_test).asscalar()))\n",
    "    \n",
    "model_weighted = nn.Dense(1)\n",
    "train_model_weighted(model_weighted, 50, X_lam, y_lam, X_test, y_test, .005, 256, gloss.LogisticLoss(), alpha)"
   ]
  },
  {
   "cell_type": "code",
   "execution_count": null,
   "metadata": {},
   "outputs": [],
   "source": []
  }
 ],
 "metadata": {
  "kernelspec": {
   "display_name": "Python 3",
   "language": "python",
   "name": "python3"
  },
  "language_info": {
   "codemirror_mode": {
    "name": "ipython",
    "version": 3
   },
   "file_extension": ".py",
   "mimetype": "text/x-python",
   "name": "python",
   "nbconvert_exporter": "python",
   "pygments_lexer": "ipython3",
   "version": "3.6.8"
  }
 },
 "nbformat": 4,
 "nbformat_minor": 2
}
